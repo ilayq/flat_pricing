{
 "cells": [
  {
   "cell_type": "code",
   "execution_count": 42,
   "metadata": {
    "collapsed": true
   },
   "outputs": [],
   "source": [
    "import pandas as pd\n",
    "from geopy.distance import geodesic\n",
    "from sklearn.preprocessing import LabelEncoder\n",
    "from sklearn.model_selection import train_test_split\n",
    "from sklearn.linear_model import LinearRegression\n",
    "from sklearn.ensemble import RandomForestRegressor\n",
    "from sklearn.metrics import mean_absolute_error, r2_score, median_absolute_error\n",
    "import math\n",
    "\n",
    "center_coord = [55.7522, 37.6156]\n",
    "\n",
    "\n",
    "def get_azimuth(latitude, longitude):\n",
    "    #pi - число pi, rad - радиус сферы (Земли)\n",
    "    rad = 6372795\n",
    "\n",
    "    #координаты двух точек\n",
    "    llat1 = 77.1539\n",
    "    llong1 = -120.398\n",
    "\n",
    "    llat2 = 77.1804\n",
    "    llong2 = 129.55\n",
    "\n",
    "    #в радианах\n",
    "    lat1 = llat1*math.pi/180.\n",
    "    lat2 = llat2*math.pi/180.\n",
    "    long1 = llong1*math.pi/180.\n",
    "    long2 = llong2*math.pi/180.\n",
    "\n",
    "    #косинусы и синусы широт и разницы долгот\n",
    "    cl1 = math.cos(lat1)\n",
    "    cl2 = math.cos(lat2)\n",
    "    sl1 = math.sin(lat1)\n",
    "    sl2 = math.sin(lat2)\n",
    "    delta = long2 - long1\n",
    "    cdelta = math.cos(delta)\n",
    "    sdelta = math.sin(delta)\n",
    "\n",
    "    #вычисления длины большого круга\n",
    "    y = math.sqrt(math.pow(cl2*sdelta,2)+math.pow(cl1*sl2-sl1*cl2*cdelta,2))\n",
    "    x = sl1*sl2+cl1*cl2*cdelta\n",
    "    ad = math.atan2(y,x)\n",
    "    dist = ad*rad\n",
    "\n",
    "    #вычисление начального азимута\n",
    "    x = (cl1*sl2) - (sl1*cl2*cdelta)\n",
    "    y = sdelta*cl2\n",
    "    z = math.degrees(math.atan(-y/x))\n",
    "\n",
    "    if (x < 0):\n",
    "        z = z+180.\n",
    "\n",
    "    z2 = (z+180.) % 360. - 180.\n",
    "    z2 = - math.radians(z2)\n",
    "    anglerad2 = z2 - ((2*math.pi)*math.floor((z2/(2*math.pi))) )\n",
    "    angledeg = (anglerad2*180.)/math.pi\n",
    "\n",
    "    return angledeg\n",
    "\n",
    "\n",
    "url = 'https://raw.githubusercontent.com/maxbobkov/ml_moscow_flats/master/moscow_dataset_2020.csv'\n",
    "df = pd.read_csv(url)\n",
    "df['distance_from_center'] = list(map(lambda x, y: geodesic(center_coord, (x, y)).meters, df['latitude'], df['longitude']))\n",
    "df['azimuth'] = list(map(lambda x, y: get_azimuth(x, y), df['latitude'], df['longitude']))\n",
    "\n",
    "df = df.loc[(df['distance_from_center'] < 40000)]"
   ]
  },
  {
   "cell_type": "code",
   "execution_count": 43,
   "outputs": [],
   "source": [
    "categorical_columns = df.columns[df.dtypes == 'object']\n",
    "labelencoder = LabelEncoder()\n",
    "for column in categorical_columns:\n",
    "    df[column] = labelencoder.fit_transform(df[column])\n",
    "features =[\n",
    "    'wallsMaterial',\n",
    "    'floorNumber',\n",
    "    'floorsTotal',\n",
    "    'totalArea',\n",
    "    'kitchenArea',\n",
    "    'distance_from_center',\n",
    "    'azimuth',\n",
    "]\n",
    "\n",
    "x = df[features]\n",
    "y = df['price']\n",
    "\n",
    "train_x, val_x, train_y, val_y = train_test_split(x, y, random_state=1)"
   ],
   "metadata": {
    "collapsed": false
   }
  },
  {
   "cell_type": "code",
   "execution_count": 44,
   "outputs": [],
   "source": [
    "rf_model = RandomForestRegressor()\n",
    "rf_model.fit(train_x, train_y)\n",
    "rf_predict = rf_model.predict(val_x)"
   ],
   "metadata": {
    "collapsed": false
   }
  },
  {
   "cell_type": "code",
   "execution_count": 45,
   "outputs": [],
   "source": [
    "flat = pd.DataFrame({\n",
    "    'wallsMaterial': [0],\n",
    "    'floorNumber': [4],\n",
    "    'floorsTotal': [33],\n",
    "    'totalArea': [25.7],\n",
    "    'kitchenArea': [6.5],\n",
    "    'latitude': [55.84173946524932],\n",
    "    'longitude': [37.495861940133025],\n",
    "})\n",
    "\n",
    "flat['distance_from_center'] = list(map(lambda x, y: geodesic(center_coord, (x, y)).meters, flat['latitude'], flat['longitude']))\n",
    "flat['azimuth'] = list(map(lambda x, y: get_azimuth(x, y), flat['latitude'], flat['longitude']))\n",
    "flat = flat.drop('latitude', axis=1)\n",
    "flat = flat.drop('longitude', axis=1)"
   ],
   "metadata": {
    "collapsed": false
   }
  },
  {
   "cell_type": "code",
   "execution_count": 46,
   "outputs": [],
   "source": [
    "# flat['wallsMaterial'] = labelencoder.fit_transform(flat['wallsMaterial'])"
   ],
   "metadata": {
    "collapsed": false
   }
  },
  {
   "cell_type": "code",
   "execution_count": 47,
   "outputs": [
    {
     "name": "stdout",
     "output_type": "stream",
     "text": [
      "[8062630.]\n"
     ]
    }
   ],
   "source": [
    "print(rf_model.predict(flat))"
   ],
   "metadata": {
    "collapsed": false
   }
  },
  {
   "cell_type": "code",
   "execution_count": 50,
   "outputs": [
    {
     "name": "stdout",
     "output_type": "stream",
     "text": [
      "0.8120715281650346\n",
      "2900965.138747892\n",
      "864417.2533333357\n"
     ]
    }
   ],
   "source": [
    "print(r2_score(rf_predict, val_y))\n",
    "print(mean_absolute_error(rf_predict, val_y))\n",
    "print(median_absolute_error(rf_predict, val_y))"
   ],
   "metadata": {
    "collapsed": false
   }
  },
  {
   "cell_type": "code",
   "execution_count": null,
   "outputs": [],
   "source": [],
   "metadata": {
    "collapsed": false
   }
  }
 ],
 "metadata": {
  "kernelspec": {
   "display_name": "Python 3",
   "language": "python",
   "name": "python3"
  },
  "language_info": {
   "codemirror_mode": {
    "name": "ipython",
    "version": 2
   },
   "file_extension": ".py",
   "mimetype": "text/x-python",
   "name": "python",
   "nbconvert_exporter": "python",
   "pygments_lexer": "ipython2",
   "version": "2.7.6"
  }
 },
 "nbformat": 4,
 "nbformat_minor": 0
}
